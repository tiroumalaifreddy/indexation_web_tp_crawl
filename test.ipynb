{
 "cells": [
  {
   "cell_type": "code",
   "execution_count": 39,
   "metadata": {},
   "outputs": [],
   "source": [
    "import urllib.robotparser\n",
    "import urllib.request\n",
    "from bs4 import BeautifulSoup\n",
    "from urllib.parse import urlparse\n",
    "import numpy"
   ]
  },
  {
   "cell_type": "code",
   "execution_count": 5,
   "metadata": {},
   "outputs": [
    {
     "name": "stdout",
     "output_type": "stream",
     "text": [
      "Collecting lxml\n",
      "  Downloading lxml-4.9.2-cp38-cp38-manylinux_2_17_x86_64.manylinux2014_x86_64.manylinux_2_24_x86_64.whl (7.1 MB)\n",
      "\u001b[K     |████████████████████████████████| 7.1 MB 4.2 MB/s eta 0:00:01\n",
      "\u001b[?25hInstalling collected packages: lxml\n",
      "Successfully installed lxml-4.9.2\n"
     ]
    }
   ],
   "source": [
    "!pip install lxml"
   ]
  },
  {
   "cell_type": "code",
   "execution_count": 15,
   "metadata": {},
   "outputs": [],
   "source": [
    "import lxml\n",
    "import requests"
   ]
  },
  {
   "cell_type": "code",
   "execution_count": 37,
   "metadata": {},
   "outputs": [],
   "source": [
    "def get_urls_from_sitemap(url_sitemap : str):\n",
    "    list_urls_from_sitemap = []\n",
    "    response = urllib.request.urlopen(url_sitemap)\n",
    "    xml = BeautifulSoup(response)\n",
    "    urls = xml.find_all('url')\n",
    "    sitemaps = xml.findAll('sitemap')\n",
    "    if sitemaps:\n",
    "        for sitemap in sitemaps:\n",
    "            sitemap_url = sitemap.find('loc').string\n",
    "            list_urls_from_sitemap.append(get_urls_from_sitemap(sitemap_url))\n",
    "\n",
    "    for url in urls:\n",
    "        if xml.find(\"loc\"):\n",
    "            loc = url.findNext(\"loc\").text\n",
    "            list_urls_from_sitemap.append(loc)\n",
    "    return list_urls_from_sitemap"
   ]
  },
  {
   "cell_type": "code",
   "execution_count": 40,
   "metadata": {},
   "outputs": [
    {
     "ename": "ValueError",
     "evalue": "zero-dimensional arrays cannot be concatenated",
     "output_type": "error",
     "traceback": [
      "\u001b[0;31m---------------------------------------------------------------------------\u001b[0m",
      "\u001b[0;31mValueError\u001b[0m                                Traceback (most recent call last)",
      "Cell \u001b[0;32mIn [40], line 1\u001b[0m\n\u001b[0;32m----> 1\u001b[0m get_urls_from_sitemap(\u001b[39m\"\u001b[39;49m\u001b[39mhttp://ensai.fr/sitemap_index.xml\u001b[39;49m\u001b[39m\"\u001b[39;49m)\n",
      "Cell \u001b[0;32mIn [37], line 10\u001b[0m, in \u001b[0;36mget_urls_from_sitemap\u001b[0;34m(url_sitemap)\u001b[0m\n\u001b[1;32m      8\u001b[0m     \u001b[39mfor\u001b[39;00m sitemap \u001b[39min\u001b[39;00m sitemaps:\n\u001b[1;32m      9\u001b[0m         sitemap_url \u001b[39m=\u001b[39m sitemap\u001b[39m.\u001b[39mfind(\u001b[39m'\u001b[39m\u001b[39mloc\u001b[39m\u001b[39m'\u001b[39m)\u001b[39m.\u001b[39mstring\n\u001b[0;32m---> 10\u001b[0m         list_urls_from_sitemap\u001b[39m.\u001b[39mappend(get_urls_from_sitemap(sitemap_url))\n\u001b[1;32m     12\u001b[0m \u001b[39mfor\u001b[39;00m url \u001b[39min\u001b[39;00m urls:\n\u001b[1;32m     13\u001b[0m     \u001b[39mif\u001b[39;00m xml\u001b[39m.\u001b[39mfind(\u001b[39m\"\u001b[39m\u001b[39mloc\u001b[39m\u001b[39m\"\u001b[39m):\n",
      "Cell \u001b[0;32mIn [37], line 16\u001b[0m, in \u001b[0;36mget_urls_from_sitemap\u001b[0;34m(url_sitemap)\u001b[0m\n\u001b[1;32m     14\u001b[0m         loc \u001b[39m=\u001b[39m url\u001b[39m.\u001b[39mfindNext(\u001b[39m\"\u001b[39m\u001b[39mloc\u001b[39m\u001b[39m\"\u001b[39m)\u001b[39m.\u001b[39mtext\n\u001b[1;32m     15\u001b[0m         list_urls_from_sitemap\u001b[39m.\u001b[39mappend(loc)\n\u001b[0;32m---> 16\u001b[0m \u001b[39mreturn\u001b[39;00m \u001b[39mlist\u001b[39m(numpy\u001b[39m.\u001b[39;49mconcatenate(list_urls_from_sitemap)\u001b[39m.\u001b[39mflat)\n",
      "File \u001b[0;32m<__array_function__ internals>:180\u001b[0m, in \u001b[0;36mconcatenate\u001b[0;34m(*args, **kwargs)\u001b[0m\n",
      "\u001b[0;31mValueError\u001b[0m: zero-dimensional arrays cannot be concatenated"
     ]
    }
   ],
   "source": [
    "get_urls_from_sitemap(\"http://ensai.fr/sitemap_index.xml\")"
   ]
  }
 ],
 "metadata": {
  "kernelspec": {
   "display_name": "Python 3",
   "language": "python",
   "name": "python3"
  },
  "language_info": {
   "codemirror_mode": {
    "name": "ipython",
    "version": 3
   },
   "file_extension": ".py",
   "mimetype": "text/x-python",
   "name": "python",
   "nbconvert_exporter": "python",
   "pygments_lexer": "ipython3",
   "version": "3.8.10"
  },
  "orig_nbformat": 4,
  "vscode": {
   "interpreter": {
    "hash": "916dbcbb3f70747c44a77c7bcd40155683ae19c65e1c03b4aa3499c5328201f1"
   }
  }
 },
 "nbformat": 4,
 "nbformat_minor": 2
}
